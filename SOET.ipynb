{
 "cells": [
  {
   "cell_type": "markdown",
   "metadata": {},
   "source": [
    "# Site Occupation Embedding Theory\n",
    "---------------------------------------------------------"
   ]
  },
  {
   "cell_type": "markdown",
   "metadata": {},
   "source": [
    "A basic implementation of Site Occupation Embedding Theory following the three papers:\n",
    "    1. Mol. Phys. 115 (2017) 48\n",
    "    2. PRB 97 (2018) 235105\n",
    "    3. TCA 137:169 (2018)"
   ]
  },
  {
   "cell_type": "markdown",
   "metadata": {},
   "source": [
    "## I. Preliminaries"
   ]
  },
  {
   "cell_type": "markdown",
   "metadata": {},
   "source": [
    "The Hubbard model in 1D is the toy model to play with SOET and test the implementation. The Hubbard model is written as :\n",
    "\n",
    "$\n",
    "\\hat{H} = -t \\sum^{N-1}_{i=1} \\sum_{\\sigma} \\left( \\hat{c}^{\\dagger}_{i,\\sigma}\\hat{c}_{i+1,\\sigma} + h.c. \\right) + U \\sum^N_{i=1} \\left( \\hat{n}_{\\uparrow,i}\\hat{n}_{\\downarrow,i}\\right) + \\sum^N_{i=1}\\nu_i \\hat{n}_i\n",
    "$"
   ]
  },
  {
   "cell_type": "markdown",
   "metadata": {},
   "source": [
    "The operators $\\sum_{\\sigma}\\hat{c}^{\\dagger}$ and $\\sum_{\\sigma}\\hat{c}_{\\sigma}$ are 4x4 matrices given by:\n",
    "$$\n",
    "\\sum_{\\sigma}\\hat{c}^{\\dagger}_{\\sigma} = \\begin{array}{|c|c|c|c|}\n",
    "\\hline\n",
    "0&0&0&0\\\\ \\hline\n",
    "1&0&0&0\\\\ \\hline\n",
    "1&0&0&0\\\\ \\hline\n",
    "0&1&1&0\\\\ \\hline\n",
    " \\hline\n",
    "\\end{array}\n",
    "$$\n",
    "and $\\sum_{\\sigma}\\hat{c}_{\\sigma}$ is given by:\n",
    "$$\n",
    "\\sum_{\\sigma}\\hat{c}_{\\sigma} = \\begin{array}{|c|c|c|c|}\n",
    "\\hline\n",
    "0&1&1&0\\\\ \\hline\n",
    "0&0&0&1\\\\ \\hline\n",
    "0&0&0&1\\\\ \\hline\n",
    "0&0&0&0\\\\ \\hline\n",
    " \\hline\n",
    "\\end{array}\n",
    "$$\n",
    "\n",
    "The occupation number operator $\\hat{n}$ is diagonal and written in matrix form as:\n",
    "$$\n",
    "\\sum_{\\sigma}\\hat{n}_{\\sigma} = \\begin{array}{|c|c|c|c|}\n",
    "\\hline\n",
    "0&0&0&0\\\\ \\hline\n",
    "0&1&0&0\\\\ \\hline\n",
    "0&0&1&0\\\\ \\hline\n",
    "0&0&0&2\\\\ \\hline\n",
    " \\hline\n",
    "\\end{array}\n",
    "$$"
   ]
  },
  {
   "cell_type": "markdown",
   "metadata": {},
   "source": [
    "Using these definitions and the ratio $U/t$ and $\\nu/t$ with the unit of $t$ taken as 1, one can setup the Hubbard Hamiltonian and solve for the ground states."
   ]
  },
  {
   "cell_type": "markdown",
   "metadata": {},
   "source": [
    "### 1. Hubbard dimer"
   ]
  },
  {
   "cell_type": "markdown",
   "metadata": {},
   "source": [
    "Consider the minimal model with two orbitals and two electrons."
   ]
  },
  {
   "cell_type": "code",
   "execution_count": 426,
   "metadata": {},
   "outputs": [
    {
     "data": {
      "text/plain": [
       "4×4 Array{Float64,2}:\n",
       " 0.0  0.0  0.0  0.0\n",
       " 1.0  0.0  0.0  0.0\n",
       " 1.0  0.0  0.0  0.0\n",
       " 0.0  1.0  1.0  0.0"
      ]
     },
     "execution_count": 426,
     "metadata": {},
     "output_type": "execute_result"
    }
   ],
   "source": [
    "# define standard operators\n",
    "using SparseArrays\n",
    "using LinearAlgebra\n",
    "using Arpack\n",
    "using Plots\n",
    "using Arpack\n",
    "\n",
    "Cre = SparseArrays.sparse(1.0*LinearAlgebra.Diagonal(zeros(4)));\n",
    "Cre[2,1]=1.0;\n",
    "Cre[3,1]=1.0;\n",
    "Cre[4,2]=Cre[4,3]=1.0;\n",
    "Des = SparseArrays.sparse(transpose(Cre));\n",
    "Num = SparseArrays.sparse(1.0*LinearAlgebra.Diagonal(ones(4)));\n",
    "Num[1,1]=0.0;\n",
    "Num[2,2]=1.0;\n",
    "Num[3,3]=1.0;\n",
    "Num[4,4]=2.0;\n",
    "Numup = SparseArrays.sparse(1.0*LinearAlgebra.Diagonal(ones(4)));\n",
    "Numup[1,1]=0.0;\n",
    "Numup[2,2]=1.0;\n",
    "Numup[3,3]=0.0;\n",
    "Numup[4,4]=1.0;\n",
    "Numdn = SparseArrays.sparse(1.0*LinearAlgebra.Diagonal(ones(4)));\n",
    "Numup[1,1]=0.0;\n",
    "Numup[2,2]=0.0;\n",
    "Numdn[3,3]=1.0;\n",
    "Numdn[4,4]=1.0;\n",
    "Eye = SparseArrays.sparse(1.0*LinearAlgebra.Diagonal(ones(4)));\n",
    "\n",
    "Matrix(Cre)"
   ]
  },
  {
   "cell_type": "code",
   "execution_count": 427,
   "metadata": {},
   "outputs": [
    {
     "name": "stdout",
     "output_type": "stream",
     "text": [
      "Energy=[-1.2641016151377544]\n"
     ]
    },
    {
     "data": {
      "text/plain": [
       "6×6 Array{Float64,2}:\n",
       "  4.2  -1.0  -1.0  -1.0  -1.0   0.0\n",
       " -1.0   0.2   0.0   0.0   0.0  -1.0\n",
       " -1.0   0.0   0.2   0.0   0.0  -1.0\n",
       " -1.0   0.0   0.0   0.2   0.0  -1.0\n",
       " -1.0   0.0   0.0   0.0   0.2  -1.0\n",
       "  0.0  -1.0  -1.0  -1.0  -1.0   4.2"
      ]
     },
     "execution_count": 427,
     "metadata": {},
     "output_type": "execute_result"
    }
   ],
   "source": [
    "# build the Hamiltonian\n",
    "\n",
    "# on site 1\n",
    "Cre1 = kron(Cre,Eye);\n",
    "Des1 = kron(Des,Eye);\n",
    "Num1 = kron(Num,Eye);\n",
    "Numup1 = kron(Numup,Eye);\n",
    "Numdn1 = kron(Numdn,Eye);\n",
    "Eye1 = kron(Eye,Eye);\n",
    "\n",
    "# on site 2\n",
    "Cre2 = kron(Eye,Cre);\n",
    "Des2 = kron(Eye,Des);\n",
    "Num2 = kron(Eye,Num);\n",
    "Numup2 = kron(Eye,Numup);\n",
    "Numdn2 = kron(Eye,Numdn);\n",
    "Eye2 = Eye1;\n",
    "\n",
    "# make the Hamiltonian\n",
    "t=1.0;\n",
    "U=4.0t;\n",
    "U1=4.0t;\n",
    "U2=4.0t;\n",
    "ν=0.1t;\n",
    "ν1=0.1t;\n",
    "ν2=0.1t;\n",
    "ϵ=10^-10;\n",
    "\n",
    "Ham = -t*(Cre1*Des2 + Des1*Cre2) + U1*(Numup1*Numdn1) + U2*(Numup2*Numdn2) + ν1*(Num1) + ν2*(Num2);\n",
    "\n",
    "# extract the relavant n̂ zone\n",
    "nel=2.0;\n",
    "Idxs = getRelavantIdxs(Num1 + Num2, nel);\n",
    "HamTrunc = projectHamiltonian(Ham,Idxs);\n",
    "dim = size(HamTrunc);\n",
    "\n",
    "λ,ϕ = Arpack.eigs(HamTrunc, nev = 1, which=:SR)\n",
    "λ=real(λ);\n",
    "ϕ=real(ϕ);\n",
    "ϕ[map.(abs,ϕ) .< ϵ].=0.0;\n",
    "\n",
    "print(\"Energy=\",λ,\"\\n\")\n",
    "\n",
    "Matrix(HamTrunc)"
   ]
  },
  {
   "cell_type": "markdown",
   "metadata": {},
   "source": [
    "# II. Analytic results"
   ]
  },
  {
   "cell_type": "markdown",
   "metadata": {},
   "source": [
    "As we see above, the Hubbard Hamiltonian is quite simple for the $<\\hat{n}>=2$ subspace. There are essentially three types of basis functions one with [2 0] occuaption another with [0 2] (with indices 1 and 6 respectively) and the four basis functions in the middle represent the Ms=1,0(S=1),0(S=0),-1 basis functions respectively. \n",
    "\n",
    "The above matrix can also be written analytically as:\n",
    "$$\n",
    "\\hat{H}_{<\\hat{n}>=2} = \\begin{array}{|c|c|c|c|c|c|}\n",
    "\\hline\n",
    "U_0+2\\nu_0&-t&-t&-t&-t&0\\\\ \\hline\n",
    "-t&\\nu_0+\\nu_1&0&0&0&-t\\\\ \\hline\n",
    "-t&0&\\nu_0+\\nu_1&0&0&-t\\\\ \\hline\n",
    "-t&0&0&\\nu_0+\\nu_1&0&-t\\\\ \\hline\n",
    "-t&0&0&0&\\nu_0+\\nu_1&-t\\\\ \\hline\n",
    "0&-t&-t&-t&-t&U_1+2\\nu_1\\\\ \\hline\n",
    " \\hline\n",
    "\\end{array}\n",
    "$$"
   ]
  },
  {
   "cell_type": "markdown",
   "metadata": {},
   "source": [
    "This Hamiltonian can be simplified by projecting the basis onto the S=0 spin subspace and upon taking $\\frac{a\\bar{b}-\\bar{a}b}{\\sqrt{2}}$ as one S=0 eigenfunction we get the same result as that of the paper (Eq.26):\n",
    "\n",
    "$$\n",
    "\\hat{H}_{<\\hat{n}>=2,S=0} = \\begin{array}{|c|c|c|}\n",
    "\\hline\n",
    "U_0+2\\nu_0&-\\sqrt{2}t&0\\\\ \\hline\n",
    "-\\sqrt{2}t&\\nu_0 + \\nu_1&-\\sqrt{2}t\\\\ \\hline\n",
    "0&-\\sqrt{2}t&U_1+2\\nu_1\\\\ \\hline\n",
    " \\hline\n",
    "\\end{array}\n",
    "$$"
   ]
  },
  {
   "cell_type": "markdown",
   "metadata": {},
   "source": [
    "## 1. Energy Functional"
   ]
  },
  {
   "cell_type": "markdown",
   "metadata": {},
   "source": [
    "Here we will analyze the energy funtional and its relation to $U/t$ and $\\nu/t$.\n",
    "\n",
    "Analytic results can be found in the case of two site Hubbard model. First, we shall rewrite the above Hamiltonian in a simplified form under the assumption $\\nu_1 + \\nu_2 = 0$ as follows:\n",
    "\n",
    "$$\n",
    "\\hat{H}_{<\\hat{n}>=2,S=0} = \\begin{array}{|c|c|c|}\n",
    "\\hline\n",
    "U_0+\\delta\\nu&-\\sqrt{2}t&0\\\\ \\hline\n",
    "-\\sqrt{2}t&0&-\\sqrt{2}t\\\\ \\hline\n",
    "0&-\\sqrt{2}t&U_1-\\delta\\nu\\\\ \\hline\n",
    " \\hline\n",
    "\\end{array}\n",
    "$$"
   ]
  },
  {
   "cell_type": "markdown",
   "metadata": {},
   "source": [
    "And we obtain the same matrix as in Eq(26). Analytic diagonalization can be carried out with the assumption that $U_0 = U_1 = U$. \n",
    "\n",
    "One root is then written as follows:\n",
    "\n",
    "$\n",
    "\\frac{\\sqrt[3]{\\sqrt{4 \\left(18 t^2 U+U^3-9 U v^2\\right)^2-4 \\left(12 t^2+U^2+3 v^2\\right)^3}-36 t^2 U-2 U^3+18 U v^2}}{3 \\sqrt[3]{2}}+\\frac{\\sqrt[3]{2} \\left(12 t^2+U^2+3 v^2\\right)}{3 \\sqrt[3]{\\sqrt{4 \\left(18 t^2 U+U^3-9 U v^2\\right)^2-4 \\left(12 t^2+U^2+3 v^2\\right)^3}-36 t^2 U-2 U^3+18 U v^2}}+\\frac{2 U}{3}\n",
    "$"
   ]
  },
  {
   "cell_type": "markdown",
   "metadata": {},
   "source": [
    "with the substitution of variable $u = U/2t$, $v=\\nu/2t$ and $w=\\sqrt{3\\left(1 + \\nu^2 \\right) + u^2}$, we obtain the expression given in the Eqs 27 of paper I.\n",
    "\n",
    "$\n",
    "E(U,\\delta\\nu) = \\frac{4t}{3}\\left( u - w \\sin\\left( \\theta + \\frac{\\pi}{6}\\right)\\right)\n",
    "$"
   ]
  },
  {
   "cell_type": "markdown",
   "metadata": {},
   "source": [
    "Using this result, the energy functional of the general Hamiltonian shown above can be found by using the following two relations:\n",
    "\n",
    "$\n",
    "U = \\frac{U_0 + U_1}{2}\n",
    "$\n",
    "\n",
    "and\n",
    "\n",
    "$\n",
    "\\delta\\nu_{eff} = \\delta\\nu + \\frac{U_1 - U_0}{2}\n",
    "$"
   ]
  },
  {
   "cell_type": "markdown",
   "metadata": {},
   "source": [
    "Then we get the final energy functional in terms of the general interaction parameters:\n",
    "\n",
    "$\n",
    "\\mathcal{E}(U_0,U_1,\\delta\\nu) = E((U_0+U_1)/2,\\delta\\nu + (U_1 - U_0)/2))\n",
    "$"
   ]
  },
  {
   "cell_type": "markdown",
   "metadata": {},
   "source": [
    "## 2. Levy-Lieb Functional and $E_c$"
   ]
  },
  {
   "cell_type": "markdown",
   "metadata": {},
   "source": [
    "The Levy-Lieb Functional is the equivalent of the Hohenberg-Kohn function in SOET and is a function of $t$ and $U$. The general definition of LL Functional gives the energy as a function of site occupation ($n$) and is as follows:\n",
    "\n",
    "$\n",
    "F(U,\\textbf{n}) = \\min_{v}\\left\\{ E(v) - <v|n> \\right\\}\n",
    "$\n",
    "\n",
    "The Kohn-Sham formulation of SOFT gives the following partitioning of the exchange and correlation:\n",
    "\n",
    "$\n",
    "F(U,\\textbf{n}) = \\mathcal{T}_s(\\textbf{n}) + E_{Hxc}(U,\\textbf{n})\n",
    "$\n",
    "\n",
    "where $E_{Hxc}(U,\\textbf{n}) = E_{Hx}(U,\\textbf{n}) + E_c(U,\\textbf{n})$.\n",
    "\n",
    "From here one can obtain the correlation energy after using the definition of the Hartree exchange energy as:\n",
    "\n",
    "$\n",
    "E_{Hx} = \\frac{U}{4}\\sum_i \\left( n^2_i \\right)\n",
    "$\n",
    "\n",
    "The total correlation energy $E_c$ is:\n",
    "\n",
    "$\n",
    "E_c(U,\\textbf{n}) = F(U,\\textbf{n})-\\mathcal{T}_s(\\textbf{n})-E_{Hx}(U,\\textbf{n})\n",
    "E_c(U,\\textbf{n}) = F(U,\\textbf{n})-\\mathcal{T}_s(\\textbf{n})-\\frac{U}{4}\\left( n^2_0 + n^2_1\\right)\n",
    "$\n",
    "\n",
    "The kinetic energy of the non-interacting system is given by:\n",
    "\n",
    "$\n",
    "\\mathcal{T}_s(n) = -2t\\sqrt(n(2-n))\n",
    "$"
   ]
  },
  {
   "cell_type": "markdown",
   "metadata": {},
   "source": [
    "## 3. Impurity correlation energy ($E^{imp}_c$)"
   ]
  },
  {
   "cell_type": "markdown",
   "metadata": {},
   "source": [
    "The energy functional for the impurity and the system have the following relationship:\n",
    "\n",
    "$\n",
    "\\mathcal{E}^{imp}(U,\\delta\\nu) = \\mathcal{E}(U,0,\\delta\\nu) = E(U/2,\\delta\\nu - U/2)\n",
    "$\n",
    "\n",
    "where we've basically substituted used $U_1=0$ for the impurity energy."
   ]
  },
  {
   "cell_type": "markdown",
   "metadata": {},
   "source": [
    "Using the LL functional for the impurity gives the impurity correlation energy as follows:\n",
    "\n",
    "$\n",
    "F^{imp}(U,\\textbf{n}) = \\min_{v}\\left\\{ \\mathcal{E}^{imp}(v) - <v|n> \\right\\}\n",
    "$\n",
    "\n",
    "using the relation between the energies above this becomes:\n",
    "\n",
    "$\n",
    "F^{imp}(U,\\textbf{n}) = F(U/2\\textbf{n}) + \\frac{U}{2}(n-1)\n",
    "$\n"
   ]
  },
  {
   "cell_type": "markdown",
   "metadata": {},
   "source": [
    "Now we can define the correlation energy of the impurity using the LL function for the impurity as follows\n",
    "\n",
    "$\n",
    "E^{imp}_c(U,n) = F^{imp}(U,n) - \\mathcal{T}_s(n) - E^{imp}_{Hx}(U,n)\n",
    "$"
   ]
  },
  {
   "cell_type": "markdown",
   "metadata": {},
   "source": [
    "with $E^{imp}_{Hx}(U,n) = \\frac{U}{4}n^2$\n",
    "\n",
    "Therefore $E^{imp}_c$ can be obtained by $E_c$ by scaling by $\\frac{1}{2}$ the U parameter:\n",
    "\n",
    "$\n",
    "E_c(U,n) = E^{imp}_c(U/2,n)\n",
    "$"
   ]
  },
  {
   "cell_type": "code",
   "execution_count": 446,
   "metadata": {},
   "outputs": [
    {
     "data": {
      "image/svg+xml": [
       "<?xml version=\"1.0\" encoding=\"utf-8\"?>\n",
       "<svg xmlns=\"http://www.w3.org/2000/svg\" xmlns:xlink=\"http://www.w3.org/1999/xlink\" width=\"600\" height=\"400\" viewBox=\"0 0 2400 1600\">\n",
       "<defs>\n",
       "  <clipPath id=\"clip6200\">\n",
       "    <rect x=\"0\" y=\"0\" width=\"2400\" height=\"1600\"/>\n",
       "  </clipPath>\n",
       "</defs>\n",
       "<path clip-path=\"url(#clip6200)\" d=\"\n",
       "M0 1600 L2400 1600 L2400 0 L0 0  Z\n",
       "  \" fill=\"#ffffff\" fill-rule=\"evenodd\" fill-opacity=\"1\"/>\n",
       "<defs>\n",
       "  <clipPath id=\"clip6201\">\n",
       "    <rect x=\"480\" y=\"0\" width=\"1681\" height=\"1600\"/>\n",
       "  </clipPath>\n",
       "</defs>\n",
       "<path clip-path=\"url(#clip6200)\" d=\"\n",
       "M182.008 1487.47 L2352.76 1487.47 L2352.76 47.2441 L182.008 47.2441  Z\n",
       "  \" fill=\"#ffffff\" fill-rule=\"evenodd\" fill-opacity=\"1\"/>\n",
       "<defs>\n",
       "  <clipPath id=\"clip6202\">\n",
       "    <rect x=\"182\" y=\"47\" width=\"2172\" height=\"1441\"/>\n",
       "  </clipPath>\n",
       "</defs>\n",
       "<polyline clip-path=\"url(#clip6202)\" style=\"stroke:#000000; stroke-width:2; stroke-opacity:0.1; fill:none\" points=\"\n",
       "  470.986,1487.47 470.986,47.2441 \n",
       "  \"/>\n",
       "<polyline clip-path=\"url(#clip6202)\" style=\"stroke:#000000; stroke-width:2; stroke-opacity:0.1; fill:none\" points=\"\n",
       "  926.069,1487.47 926.069,47.2441 \n",
       "  \"/>\n",
       "<polyline clip-path=\"url(#clip6202)\" style=\"stroke:#000000; stroke-width:2; stroke-opacity:0.1; fill:none\" points=\"\n",
       "  1381.15,1487.47 1381.15,47.2441 \n",
       "  \"/>\n",
       "<polyline clip-path=\"url(#clip6202)\" style=\"stroke:#000000; stroke-width:2; stroke-opacity:0.1; fill:none\" points=\"\n",
       "  1836.24,1487.47 1836.24,47.2441 \n",
       "  \"/>\n",
       "<polyline clip-path=\"url(#clip6202)\" style=\"stroke:#000000; stroke-width:2; stroke-opacity:0.1; fill:none\" points=\"\n",
       "  2291.32,1487.47 2291.32,47.2441 \n",
       "  \"/>\n",
       "<polyline clip-path=\"url(#clip6202)\" style=\"stroke:#000000; stroke-width:2; stroke-opacity:0.1; fill:none\" points=\"\n",
       "  182.008,1402.72 2352.76,1402.72 \n",
       "  \"/>\n",
       "<polyline clip-path=\"url(#clip6202)\" style=\"stroke:#000000; stroke-width:2; stroke-opacity:0.1; fill:none\" points=\"\n",
       "  182.008,1179.88 2352.76,1179.88 \n",
       "  \"/>\n",
       "<polyline clip-path=\"url(#clip6202)\" style=\"stroke:#000000; stroke-width:2; stroke-opacity:0.1; fill:none\" points=\"\n",
       "  182.008,957.053 2352.76,957.053 \n",
       "  \"/>\n",
       "<polyline clip-path=\"url(#clip6202)\" style=\"stroke:#000000; stroke-width:2; stroke-opacity:0.1; fill:none\" points=\"\n",
       "  182.008,734.22 2352.76,734.22 \n",
       "  \"/>\n",
       "<polyline clip-path=\"url(#clip6202)\" style=\"stroke:#000000; stroke-width:2; stroke-opacity:0.1; fill:none\" points=\"\n",
       "  182.008,511.388 2352.76,511.388 \n",
       "  \"/>\n",
       "<polyline clip-path=\"url(#clip6202)\" style=\"stroke:#000000; stroke-width:2; stroke-opacity:0.1; fill:none\" points=\"\n",
       "  182.008,288.556 2352.76,288.556 \n",
       "  \"/>\n",
       "<polyline clip-path=\"url(#clip6202)\" style=\"stroke:#000000; stroke-width:2; stroke-opacity:0.1; fill:none\" points=\"\n",
       "  182.008,65.724 2352.76,65.724 \n",
       "  \"/>\n",
       "<polyline clip-path=\"url(#clip6200)\" style=\"stroke:#000000; stroke-width:4; stroke-opacity:1; fill:none\" points=\"\n",
       "  182.008,1487.47 2352.76,1487.47 \n",
       "  \"/>\n",
       "<polyline clip-path=\"url(#clip6200)\" style=\"stroke:#000000; stroke-width:4; stroke-opacity:1; fill:none\" points=\"\n",
       "  182.008,1487.47 182.008,47.2441 \n",
       "  \"/>\n",
       "<polyline clip-path=\"url(#clip6200)\" style=\"stroke:#000000; stroke-width:4; stroke-opacity:1; fill:none\" points=\"\n",
       "  470.986,1487.47 470.986,1470.19 \n",
       "  \"/>\n",
       "<polyline clip-path=\"url(#clip6200)\" style=\"stroke:#000000; stroke-width:4; stroke-opacity:1; fill:none\" points=\"\n",
       "  926.069,1487.47 926.069,1470.19 \n",
       "  \"/>\n",
       "<polyline clip-path=\"url(#clip6200)\" style=\"stroke:#000000; stroke-width:4; stroke-opacity:1; fill:none\" points=\"\n",
       "  1381.15,1487.47 1381.15,1470.19 \n",
       "  \"/>\n",
       "<polyline clip-path=\"url(#clip6200)\" style=\"stroke:#000000; stroke-width:4; stroke-opacity:1; fill:none\" points=\"\n",
       "  1836.24,1487.47 1836.24,1470.19 \n",
       "  \"/>\n",
       "<polyline clip-path=\"url(#clip6200)\" style=\"stroke:#000000; stroke-width:4; stroke-opacity:1; fill:none\" points=\"\n",
       "  2291.32,1487.47 2291.32,1470.19 \n",
       "  \"/>\n",
       "<polyline clip-path=\"url(#clip6200)\" style=\"stroke:#000000; stroke-width:4; stroke-opacity:1; fill:none\" points=\"\n",
       "  182.008,1402.72 208.057,1402.72 \n",
       "  \"/>\n",
       "<polyline clip-path=\"url(#clip6200)\" style=\"stroke:#000000; stroke-width:4; stroke-opacity:1; fill:none\" points=\"\n",
       "  182.008,1179.88 208.057,1179.88 \n",
       "  \"/>\n",
       "<polyline clip-path=\"url(#clip6200)\" style=\"stroke:#000000; stroke-width:4; stroke-opacity:1; fill:none\" points=\"\n",
       "  182.008,957.053 208.057,957.053 \n",
       "  \"/>\n",
       "<polyline clip-path=\"url(#clip6200)\" style=\"stroke:#000000; stroke-width:4; stroke-opacity:1; fill:none\" points=\"\n",
       "  182.008,734.22 208.057,734.22 \n",
       "  \"/>\n",
       "<polyline clip-path=\"url(#clip6200)\" style=\"stroke:#000000; stroke-width:4; stroke-opacity:1; fill:none\" points=\"\n",
       "  182.008,511.388 208.057,511.388 \n",
       "  \"/>\n",
       "<polyline clip-path=\"url(#clip6200)\" style=\"stroke:#000000; stroke-width:4; stroke-opacity:1; fill:none\" points=\"\n",
       "  182.008,288.556 208.057,288.556 \n",
       "  \"/>\n",
       "<polyline clip-path=\"url(#clip6200)\" style=\"stroke:#000000; stroke-width:4; stroke-opacity:1; fill:none\" points=\"\n",
       "  182.008,65.724 208.057,65.724 \n",
       "  \"/>\n",
       "<g clip-path=\"url(#clip6200)\">\n",
       "<text style=\"fill:#000000; fill-opacity:1; font-family:Arial,Helvetica Neue,Helvetica,sans-serif; font-size:48px; text-anchor:middle;\" transform=\"rotate(0, 470.986, 1541.47)\" x=\"470.986\" y=\"1541.47\">2</text>\n",
       "</g>\n",
       "<g clip-path=\"url(#clip6200)\">\n",
       "<text style=\"fill:#000000; fill-opacity:1; font-family:Arial,Helvetica Neue,Helvetica,sans-serif; font-size:48px; text-anchor:middle;\" transform=\"rotate(0, 926.069, 1541.47)\" x=\"926.069\" y=\"1541.47\">4</text>\n",
       "</g>\n",
       "<g clip-path=\"url(#clip6200)\">\n",
       "<text style=\"fill:#000000; fill-opacity:1; font-family:Arial,Helvetica Neue,Helvetica,sans-serif; font-size:48px; text-anchor:middle;\" transform=\"rotate(0, 1381.15, 1541.47)\" x=\"1381.15\" y=\"1541.47\">6</text>\n",
       "</g>\n",
       "<g clip-path=\"url(#clip6200)\">\n",
       "<text style=\"fill:#000000; fill-opacity:1; font-family:Arial,Helvetica Neue,Helvetica,sans-serif; font-size:48px; text-anchor:middle;\" transform=\"rotate(0, 1836.24, 1541.47)\" x=\"1836.24\" y=\"1541.47\">8</text>\n",
       "</g>\n",
       "<g clip-path=\"url(#clip6200)\">\n",
       "<text style=\"fill:#000000; fill-opacity:1; font-family:Arial,Helvetica Neue,Helvetica,sans-serif; font-size:48px; text-anchor:middle;\" transform=\"rotate(0, 2291.32, 1541.47)\" x=\"2291.32\" y=\"1541.47\">10</text>\n",
       "</g>\n",
       "<g clip-path=\"url(#clip6200)\">\n",
       "<text style=\"fill:#000000; fill-opacity:1; font-family:Arial,Helvetica Neue,Helvetica,sans-serif; font-size:48px; text-anchor:end;\" transform=\"rotate(0, 158.008, 1420.22)\" x=\"158.008\" y=\"1420.22\">-0.6</text>\n",
       "</g>\n",
       "<g clip-path=\"url(#clip6200)\">\n",
       "<text style=\"fill:#000000; fill-opacity:1; font-family:Arial,Helvetica Neue,Helvetica,sans-serif; font-size:48px; text-anchor:end;\" transform=\"rotate(0, 158.008, 1197.38)\" x=\"158.008\" y=\"1197.38\">-0.5</text>\n",
       "</g>\n",
       "<g clip-path=\"url(#clip6200)\">\n",
       "<text style=\"fill:#000000; fill-opacity:1; font-family:Arial,Helvetica Neue,Helvetica,sans-serif; font-size:48px; text-anchor:end;\" transform=\"rotate(0, 158.008, 974.553)\" x=\"158.008\" y=\"974.553\">-0.4</text>\n",
       "</g>\n",
       "<g clip-path=\"url(#clip6200)\">\n",
       "<text style=\"fill:#000000; fill-opacity:1; font-family:Arial,Helvetica Neue,Helvetica,sans-serif; font-size:48px; text-anchor:end;\" transform=\"rotate(0, 158.008, 751.72)\" x=\"158.008\" y=\"751.72\">-0.3</text>\n",
       "</g>\n",
       "<g clip-path=\"url(#clip6200)\">\n",
       "<text style=\"fill:#000000; fill-opacity:1; font-family:Arial,Helvetica Neue,Helvetica,sans-serif; font-size:48px; text-anchor:end;\" transform=\"rotate(0, 158.008, 528.888)\" x=\"158.008\" y=\"528.888\">-0.2</text>\n",
       "</g>\n",
       "<g clip-path=\"url(#clip6200)\">\n",
       "<text style=\"fill:#000000; fill-opacity:1; font-family:Arial,Helvetica Neue,Helvetica,sans-serif; font-size:48px; text-anchor:end;\" transform=\"rotate(0, 158.008, 306.056)\" x=\"158.008\" y=\"306.056\">-0.1</text>\n",
       "</g>\n",
       "<g clip-path=\"url(#clip6200)\">\n",
       "<text style=\"fill:#000000; fill-opacity:1; font-family:Arial,Helvetica Neue,Helvetica,sans-serif; font-size:48px; text-anchor:end;\" transform=\"rotate(0, 158.008, 83.224)\" x=\"158.008\" y=\"83.224\">0.0</text>\n",
       "</g>\n",
       "<polyline clip-path=\"url(#clip6202)\" style=\"stroke:#009af9; stroke-width:4; stroke-opacity:1; fill:none\" points=\"\n",
       "  243.444,1446.71 470.986,990.079 698.528,740.973 926.069,592.038 1153.61,495.013 1381.15,427.424 1608.69,377.872 1836.24,340.084 2063.78,310.361 2291.32,286.393 \n",
       "  \n",
       "  \"/>\n",
       "<polyline clip-path=\"url(#clip6202)\" style=\"stroke:#e26f46; stroke-width:4; stroke-opacity:1; fill:none\" points=\"\n",
       "  243.444,495.013 470.986,286.393 698.528,213.631 926.069,176.866 1153.61,154.716 1381.15,139.92 1608.69,129.339 1836.24,121.398 2063.78,115.218 2291.32,110.273 \n",
       "  \n",
       "  \"/>\n",
       "<polyline clip-path=\"url(#clip6202)\" style=\"stroke:#3da44d; stroke-width:4; stroke-opacity:1; fill:none\" points=\"\n",
       "  243.444,286.393 470.986,176.866 698.528,139.92 926.069,121.398 1153.61,110.273 1381.15,102.853 1608.69,97.5511 1836.24,93.574 2063.78,90.4804 2291.32,88.0053 \n",
       "  \n",
       "  \"/>\n",
       "<path clip-path=\"url(#clip6200)\" d=\"\n",
       "M1989.93 372.684 L2280.76 372.684 L2280.76 130.764 L1989.93 130.764  Z\n",
       "  \" fill=\"#ffffff\" fill-rule=\"evenodd\" fill-opacity=\"1\"/>\n",
       "<polyline clip-path=\"url(#clip6200)\" style=\"stroke:#000000; stroke-width:4; stroke-opacity:1; fill:none\" points=\"\n",
       "  1989.93,372.684 2280.76,372.684 2280.76,130.764 1989.93,130.764 1989.93,372.684 \n",
       "  \"/>\n",
       "<polyline clip-path=\"url(#clip6200)\" style=\"stroke:#009af9; stroke-width:4; stroke-opacity:1; fill:none\" points=\"\n",
       "  2013.93,191.244 2157.93,191.244 \n",
       "  \"/>\n",
       "<g clip-path=\"url(#clip6200)\">\n",
       "<text style=\"fill:#000000; fill-opacity:1; font-family:Arial,Helvetica Neue,Helvetica,sans-serif; font-size:48px; text-anchor:start;\" transform=\"rotate(0, 2181.93, 208.744)\" x=\"2181.93\" y=\"208.744\">y1</text>\n",
       "</g>\n",
       "<polyline clip-path=\"url(#clip6200)\" style=\"stroke:#e26f46; stroke-width:4; stroke-opacity:1; fill:none\" points=\"\n",
       "  2013.93,251.724 2157.93,251.724 \n",
       "  \"/>\n",
       "<g clip-path=\"url(#clip6200)\">\n",
       "<text style=\"fill:#000000; fill-opacity:1; font-family:Arial,Helvetica Neue,Helvetica,sans-serif; font-size:48px; text-anchor:start;\" transform=\"rotate(0, 2181.93, 269.224)\" x=\"2181.93\" y=\"269.224\">y2</text>\n",
       "</g>\n",
       "<polyline clip-path=\"url(#clip6200)\" style=\"stroke:#3da44d; stroke-width:4; stroke-opacity:1; fill:none\" points=\"\n",
       "  2013.93,312.204 2157.93,312.204 \n",
       "  \"/>\n",
       "<g clip-path=\"url(#clip6200)\">\n",
       "<text style=\"fill:#000000; fill-opacity:1; font-family:Arial,Helvetica Neue,Helvetica,sans-serif; font-size:48px; text-anchor:start;\" transform=\"rotate(0, 2181.93, 329.704)\" x=\"2181.93\" y=\"329.704\">y3</text>\n",
       "</g>\n",
       "</svg>\n"
      ]
     },
     "execution_count": 446,
     "metadata": {},
     "output_type": "execute_result"
    }
   ],
   "source": [
    "# Plot of the \"exact\" correlation energy  $E_c$\n",
    "\n",
    "\"\"\"\n",
    "Calculate the energy of a two site\n",
    "Hubbard model with t, U and ν.\n",
    "\"\"\"\n",
    "function hubbardDimerEnergy(U,ν,t)\n",
    "    u=U/(2t)\n",
    "    v=ν/(2t)\n",
    "    w=sqrt(3.0 * (1 + v^2) + u^2)\n",
    "    θ = (1/3)*acos((9(v^2 - 0.5)-u^2)*(u/w^3))\n",
    "    return((4t/3)*(u-w*sin(θ + 3.1416/6)))\n",
    "end\n",
    "res=zeros(10,3)\n",
    "count=1\n",
    "for u in 1:10\n",
    "    res[count,1]=hubbardDimerEnergy(u,0.1,0.5)\n",
    "    res[count,2]=hubbardDimerEnergy(5u,0.1,0.5)\n",
    "    res[count,3]=hubbardDimerEnergy(10u,0.1,0.5)\n",
    "    count+=1\n",
    "end\n",
    "plot(1:10,res)"
   ]
  },
  {
   "cell_type": "markdown",
   "metadata": {},
   "source": [
    "## 4. Plots"
   ]
  },
  {
   "cell_type": "markdown",
   "metadata": {},
   "source": [
    "### a.) $E_c$ vs $\\textbf{n}$"
   ]
  },
  {
   "cell_type": "code",
   "execution_count": 480,
   "metadata": {},
   "outputs": [
    {
     "data": {
      "image/svg+xml": [
       "<?xml version=\"1.0\" encoding=\"utf-8\"?>\n",
       "<svg xmlns=\"http://www.w3.org/2000/svg\" xmlns:xlink=\"http://www.w3.org/1999/xlink\" width=\"600\" height=\"400\" viewBox=\"0 0 2400 1600\">\n",
       "<defs>\n",
       "  <clipPath id=\"clip8200\">\n",
       "    <rect x=\"0\" y=\"0\" width=\"2400\" height=\"1600\"/>\n",
       "  </clipPath>\n",
       "</defs>\n",
       "<path clip-path=\"url(#clip8200)\" d=\"\n",
       "M0 1600 L2400 1600 L2400 0 L0 0  Z\n",
       "  \" fill=\"#ffffff\" fill-rule=\"evenodd\" fill-opacity=\"1\"/>\n",
       "<defs>\n",
       "  <clipPath id=\"clip8201\">\n",
       "    <rect x=\"480\" y=\"0\" width=\"1681\" height=\"1600\"/>\n",
       "  </clipPath>\n",
       "</defs>\n",
       "<path clip-path=\"url(#clip8200)\" d=\"\n",
       "M141.865 1487.47 L2352.76 1487.47 L2352.76 47.2441 L141.865 47.2441  Z\n",
       "  \" fill=\"#ffffff\" fill-rule=\"evenodd\" fill-opacity=\"1\"/>\n",
       "<defs>\n",
       "  <clipPath id=\"clip8202\">\n",
       "    <rect x=\"141\" y=\"47\" width=\"2212\" height=\"1441\"/>\n",
       "  </clipPath>\n",
       "</defs>\n",
       "<polyline clip-path=\"url(#clip8202)\" style=\"stroke:#000000; stroke-width:2; stroke-opacity:0.1; fill:none\" points=\"\n",
       "  204.437,1487.47 204.437,47.2441 \n",
       "  \"/>\n",
       "<polyline clip-path=\"url(#clip8202)\" style=\"stroke:#000000; stroke-width:2; stroke-opacity:0.1; fill:none\" points=\"\n",
       "  725.874,1487.47 725.874,47.2441 \n",
       "  \"/>\n",
       "<polyline clip-path=\"url(#clip8202)\" style=\"stroke:#000000; stroke-width:2; stroke-opacity:0.1; fill:none\" points=\"\n",
       "  1247.31,1487.47 1247.31,47.2441 \n",
       "  \"/>\n",
       "<polyline clip-path=\"url(#clip8202)\" style=\"stroke:#000000; stroke-width:2; stroke-opacity:0.1; fill:none\" points=\"\n",
       "  1768.75,1487.47 1768.75,47.2441 \n",
       "  \"/>\n",
       "<polyline clip-path=\"url(#clip8202)\" style=\"stroke:#000000; stroke-width:2; stroke-opacity:0.1; fill:none\" points=\"\n",
       "  2290.18,1487.47 2290.18,47.2441 \n",
       "  \"/>\n",
       "<polyline clip-path=\"url(#clip8202)\" style=\"stroke:#000000; stroke-width:2; stroke-opacity:0.1; fill:none\" points=\"\n",
       "  141.865,1487.47 2352.76,1487.47 \n",
       "  \"/>\n",
       "<polyline clip-path=\"url(#clip8202)\" style=\"stroke:#000000; stroke-width:2; stroke-opacity:0.1; fill:none\" points=\"\n",
       "  141.865,1007.4 2352.76,1007.4 \n",
       "  \"/>\n",
       "<polyline clip-path=\"url(#clip8202)\" style=\"stroke:#000000; stroke-width:2; stroke-opacity:0.1; fill:none\" points=\"\n",
       "  141.865,527.321 2352.76,527.321 \n",
       "  \"/>\n",
       "<polyline clip-path=\"url(#clip8202)\" style=\"stroke:#000000; stroke-width:2; stroke-opacity:0.1; fill:none\" points=\"\n",
       "  141.865,47.2441 2352.76,47.2441 \n",
       "  \"/>\n",
       "<polyline clip-path=\"url(#clip8200)\" style=\"stroke:#000000; stroke-width:4; stroke-opacity:1; fill:none\" points=\"\n",
       "  141.865,1487.47 2352.76,1487.47 \n",
       "  \"/>\n",
       "<polyline clip-path=\"url(#clip8200)\" style=\"stroke:#000000; stroke-width:4; stroke-opacity:1; fill:none\" points=\"\n",
       "  141.865,1487.47 141.865,47.2441 \n",
       "  \"/>\n",
       "<polyline clip-path=\"url(#clip8200)\" style=\"stroke:#000000; stroke-width:4; stroke-opacity:1; fill:none\" points=\"\n",
       "  204.437,1487.47 204.437,1470.19 \n",
       "  \"/>\n",
       "<polyline clip-path=\"url(#clip8200)\" style=\"stroke:#000000; stroke-width:4; stroke-opacity:1; fill:none\" points=\"\n",
       "  725.874,1487.47 725.874,1470.19 \n",
       "  \"/>\n",
       "<polyline clip-path=\"url(#clip8200)\" style=\"stroke:#000000; stroke-width:4; stroke-opacity:1; fill:none\" points=\"\n",
       "  1247.31,1487.47 1247.31,1470.19 \n",
       "  \"/>\n",
       "<polyline clip-path=\"url(#clip8200)\" style=\"stroke:#000000; stroke-width:4; stroke-opacity:1; fill:none\" points=\"\n",
       "  1768.75,1487.47 1768.75,1470.19 \n",
       "  \"/>\n",
       "<polyline clip-path=\"url(#clip8200)\" style=\"stroke:#000000; stroke-width:4; stroke-opacity:1; fill:none\" points=\"\n",
       "  2290.18,1487.47 2290.18,1470.19 \n",
       "  \"/>\n",
       "<polyline clip-path=\"url(#clip8200)\" style=\"stroke:#000000; stroke-width:4; stroke-opacity:1; fill:none\" points=\"\n",
       "  141.865,1487.47 168.395,1487.47 \n",
       "  \"/>\n",
       "<polyline clip-path=\"url(#clip8200)\" style=\"stroke:#000000; stroke-width:4; stroke-opacity:1; fill:none\" points=\"\n",
       "  141.865,1007.4 168.395,1007.4 \n",
       "  \"/>\n",
       "<polyline clip-path=\"url(#clip8200)\" style=\"stroke:#000000; stroke-width:4; stroke-opacity:1; fill:none\" points=\"\n",
       "  141.865,527.321 168.395,527.321 \n",
       "  \"/>\n",
       "<polyline clip-path=\"url(#clip8200)\" style=\"stroke:#000000; stroke-width:4; stroke-opacity:1; fill:none\" points=\"\n",
       "  141.865,47.2441 168.395,47.2441 \n",
       "  \"/>\n",
       "<g clip-path=\"url(#clip8200)\">\n",
       "<text style=\"fill:#000000; fill-opacity:1; font-family:Arial,Helvetica Neue,Helvetica,sans-serif; font-size:48px; text-anchor:middle;\" transform=\"rotate(0, 204.437, 1541.47)\" x=\"204.437\" y=\"1541.47\">0.0</text>\n",
       "</g>\n",
       "<g clip-path=\"url(#clip8200)\">\n",
       "<text style=\"fill:#000000; fill-opacity:1; font-family:Arial,Helvetica Neue,Helvetica,sans-serif; font-size:48px; text-anchor:middle;\" transform=\"rotate(0, 725.874, 1541.47)\" x=\"725.874\" y=\"1541.47\">0.5</text>\n",
       "</g>\n",
       "<g clip-path=\"url(#clip8200)\">\n",
       "<text style=\"fill:#000000; fill-opacity:1; font-family:Arial,Helvetica Neue,Helvetica,sans-serif; font-size:48px; text-anchor:middle;\" transform=\"rotate(0, 1247.31, 1541.47)\" x=\"1247.31\" y=\"1541.47\">1.0</text>\n",
       "</g>\n",
       "<g clip-path=\"url(#clip8200)\">\n",
       "<text style=\"fill:#000000; fill-opacity:1; font-family:Arial,Helvetica Neue,Helvetica,sans-serif; font-size:48px; text-anchor:middle;\" transform=\"rotate(0, 1768.75, 1541.47)\" x=\"1768.75\" y=\"1541.47\">1.5</text>\n",
       "</g>\n",
       "<g clip-path=\"url(#clip8200)\">\n",
       "<text style=\"fill:#000000; fill-opacity:1; font-family:Arial,Helvetica Neue,Helvetica,sans-serif; font-size:48px; text-anchor:middle;\" transform=\"rotate(0, 2290.18, 1541.47)\" x=\"2290.18\" y=\"1541.47\">2.0</text>\n",
       "</g>\n",
       "<g clip-path=\"url(#clip8200)\">\n",
       "<text style=\"fill:#000000; fill-opacity:1; font-family:Arial,Helvetica Neue,Helvetica,sans-serif; font-size:48px; text-anchor:end;\" transform=\"rotate(0, 117.865, 1504.97)\" x=\"117.865\" y=\"1504.97\">-1</text>\n",
       "</g>\n",
       "<g clip-path=\"url(#clip8200)\">\n",
       "<text style=\"fill:#000000; fill-opacity:1; font-family:Arial,Helvetica Neue,Helvetica,sans-serif; font-size:48px; text-anchor:end;\" transform=\"rotate(0, 117.865, 1024.9)\" x=\"117.865\" y=\"1024.9\">0</text>\n",
       "</g>\n",
       "<g clip-path=\"url(#clip8200)\">\n",
       "<text style=\"fill:#000000; fill-opacity:1; font-family:Arial,Helvetica Neue,Helvetica,sans-serif; font-size:48px; text-anchor:end;\" transform=\"rotate(0, 117.865, 544.821)\" x=\"117.865\" y=\"544.821\">1</text>\n",
       "</g>\n",
       "<g clip-path=\"url(#clip8200)\">\n",
       "<text style=\"fill:#000000; fill-opacity:1; font-family:Arial,Helvetica Neue,Helvetica,sans-serif; font-size:48px; text-anchor:end;\" transform=\"rotate(0, 117.865, 64.7441)\" x=\"117.865\" y=\"64.7441\">2</text>\n",
       "</g>\n",
       "<polyline clip-path=\"url(#clip8202)\" style=\"stroke:#009af9; stroke-width:4; stroke-opacity:1; fill:none\" points=\"\n",
       "  204.437,257.712 308.724,630.626 413.012,747.391 517.299,820.98 621.586,872.211 725.874,909.201 830.161,936.076 934.448,955.206 1038.74,968.03 1143.02,975.415 \n",
       "  1247.31,977.828 1351.6,975.415 1455.88,968.03 1560.17,955.206 1664.46,936.076 1768.75,909.201 1873.03,872.211 1977.32,820.98 2081.61,747.391 2185.9,630.626 \n",
       "  2290.18,257.712 \n",
       "  \"/>\n",
       "<path clip-path=\"url(#clip8200)\" d=\"\n",
       "M1989.93 251.724 L2280.76 251.724 L2280.76 130.764 L1989.93 130.764  Z\n",
       "  \" fill=\"#ffffff\" fill-rule=\"evenodd\" fill-opacity=\"1\"/>\n",
       "<polyline clip-path=\"url(#clip8200)\" style=\"stroke:#000000; stroke-width:4; stroke-opacity:1; fill:none\" points=\"\n",
       "  1989.93,251.724 2280.76,251.724 2280.76,130.764 1989.93,130.764 1989.93,251.724 \n",
       "  \"/>\n",
       "<polyline clip-path=\"url(#clip8200)\" style=\"stroke:#009af9; stroke-width:4; stroke-opacity:1; fill:none\" points=\"\n",
       "  2013.93,191.244 2157.93,191.244 \n",
       "  \"/>\n",
       "<g clip-path=\"url(#clip8200)\">\n",
       "<text style=\"fill:#000000; fill-opacity:1; font-family:Arial,Helvetica Neue,Helvetica,sans-serif; font-size:48px; text-anchor:start;\" transform=\"rotate(0, 2181.93, 208.744)\" x=\"2181.93\" y=\"208.744\">y1</text>\n",
       "</g>\n",
       "</svg>\n"
      ]
     },
     "execution_count": 480,
     "metadata": {},
     "output_type": "execute_result"
    }
   ],
   "source": [
    "\"\"\"\n",
    "Calculate the correlation energy of \n",
    "the Hubbard model using Eq 40.\n",
    "\"\"\"\n",
    "function corrEnergy(U,ν,t,n)\n",
    "    Ts = -2t*sqrt(n*(2-n))\n",
    "    EHx = U*(1-(n*(2-n)/2))\n",
    "    FUn = hubbardDimerEnergy(U,ν,t)\n",
    "    return(FUn-Ts-EHx)\n",
    "end\n",
    "res=zeros(2*11-1,3)\n",
    "xaxis=zeros(2*11-1)\n",
    "count=1\n",
    "for n in 0:0.1:2\n",
    "    res[count,1]=corrEnergy(1.0,0.01,-1.0,n)\n",
    "    res[count,2]=corrEnergy(10.0,0.01,-1.0,n)\n",
    "    res[count,3]=corrEnergy(100.0,0.01,-1.0,n)\n",
    "    xaxis[count]=n\n",
    "    count+=1\n",
    "end\n",
    "plot(xaxis,res[:,1],ylims=(-1,2))"
   ]
  },
  {
   "cell_type": "markdown",
   "metadata": {},
   "source": [
    "---------------------"
   ]
  },
  {
   "cell_type": "markdown",
   "metadata": {},
   "source": [
    "## Helper Functions and Testing"
   ]
  },
  {
   "cell_type": "code",
   "execution_count": 394,
   "metadata": {},
   "outputs": [
    {
     "data": {
      "text/plain": [
       "projectHamiltonian"
      ]
     },
     "execution_count": 394,
     "metadata": {},
     "output_type": "execute_result"
    }
   ],
   "source": [
    "\"\"\"\n",
    "Get the indices of the Hamiltonian with the relavant number of\n",
    "electrons.\n",
    "\"\"\"\n",
    "function getRelavantIdxs(Ham,nel)\n",
    "    diagham = Ham[LinearAlgebra.diagind(Ham)]\n",
    "    dim = length(diagham)\n",
    "    Idxs = (diagham .!= nel)\n",
    "    Idxs=range(1,length=dim)[Idxs]\n",
    "    return(Idxs)\n",
    "end\n",
    "\n",
    "\"\"\"\n",
    "Remove a row and column from \n",
    "an input matrix\n",
    "\"\"\"\n",
    "function deleteRowCol(A,row,col)\n",
    "    B = A[1:end .!= row,:]\n",
    "    C = B[:, 1:end .!= col]\n",
    "    return(C)\n",
    "end\n",
    "\n",
    "\"\"\"\n",
    "Project out the relavant part\n",
    "of the Hamiltonian\n",
    "\"\"\"\n",
    "function projectHamiltonian(Ham,Idxs)\n",
    "    dim = length(Idxs)\n",
    "    A=Ham\n",
    "    for i in 0:dim-1\n",
    "        A=deleteRowCol(A,Idxs[i+1]-i,Idxs[i+1]-i)\n",
    "    end\n",
    "    return(A)\n",
    "end"
   ]
  },
  {
   "cell_type": "code",
   "execution_count": 386,
   "metadata": {},
   "outputs": [
    {
     "data": {
      "text/plain": [
       "2-element Array{Int64,1}:\n",
       " 2\n",
       " 4"
      ]
     },
     "execution_count": 386,
     "metadata": {},
     "output_type": "execute_result"
    }
   ],
   "source": [
    "tmpHam = rand(4,4)\n",
    "tmpHam[1,1]=1.0;\n",
    "tmpHam[2,2]=2.0;\n",
    "tmpHam[3,3]=1.0;\n",
    "tmpHam[4,4]=2.0;\n",
    "Idxs=getRelavantIdxs(tmpHam,1.0)"
   ]
  },
  {
   "cell_type": "code",
   "execution_count": 387,
   "metadata": {},
   "outputs": [
    {
     "data": {
      "text/plain": [
       "4×4 Array{Float64,2}:\n",
       " 1.0       0.395134   0.897717   0.338218\n",
       " 0.631182  2.0        0.0370307  0.984498\n",
       " 0.535447  0.0386168  1.0        0.898027\n",
       " 0.706438  0.0436871  0.755633   2.0     "
      ]
     },
     "execution_count": 387,
     "metadata": {},
     "output_type": "execute_result"
    }
   ],
   "source": [
    "tmpHam"
   ]
  },
  {
   "cell_type": "code",
   "execution_count": 388,
   "metadata": {},
   "outputs": [
    {
     "name": "stdout",
     "output_type": "stream",
     "text": [
      "2"
     ]
    },
    {
     "data": {
      "text/plain": [
       "2×2 Array{Float64,2}:\n",
       " 1.0       0.897717\n",
       " 0.535447  1.0     "
      ]
     },
     "execution_count": 388,
     "metadata": {},
     "output_type": "execute_result"
    }
   ],
   "source": [
    "a=projectHamiltonian(tmpHam,Idxs)"
   ]
  },
  {
   "cell_type": "code",
   "execution_count": 389,
   "metadata": {},
   "outputs": [
    {
     "data": {
      "text/plain": [
       "2×2 Array{Float64,2}:\n",
       " 1.0       0.897717\n",
       " 0.535447  1.0     "
      ]
     },
     "execution_count": 389,
     "metadata": {},
     "output_type": "execute_result"
    }
   ],
   "source": [
    "a"
   ]
  },
  {
   "cell_type": "code",
   "execution_count": null,
   "metadata": {},
   "outputs": [],
   "source": []
  },
  {
   "cell_type": "code",
   "execution_count": null,
   "metadata": {},
   "outputs": [],
   "source": []
  }
 ],
 "metadata": {
  "kernelspec": {
   "display_name": "Julia 1.3.0",
   "language": "julia",
   "name": "julia-1.3"
  },
  "language_info": {
   "file_extension": ".jl",
   "mimetype": "application/julia",
   "name": "julia",
   "version": "1.3.0"
  }
 },
 "nbformat": 4,
 "nbformat_minor": 2
}
